{
 "cells": [
  {
   "cell_type": "markdown",
   "metadata": {},
   "source": [
    "Pokemon - Gotta Catch them all - Study !"
   ]
  },
  {
   "cell_type": "code",
   "execution_count": 2,
   "metadata": {},
   "outputs": [],
   "source": [
    "import numpy as np #import numpy\n",
    "import pandas as pd #importing pandas\n",
    "import matplotlib.pyplot as plt #importing matplotlib\n",
    "import seaborn as sns #importing seaborn\n",
    "%matplotlib inline #plotting inline - only for the notebook\n"
   ]
  },
  {
   "cell_type": "code",
   "execution_count": 16,
   "metadata": {},
   "outputs": [],
   "source": [
    "df = pd.read_csv('300k.csv')"
   ]
  },
  {
   "cell_type": "code",
   "execution_count": 17,
   "metadata": {},
   "outputs": [
    {
     "data": {
      "text/html": [
       "<div>\n",
       "<style scoped>\n",
       "    .dataframe tbody tr th:only-of-type {\n",
       "        vertical-align: middle;\n",
       "    }\n",
       "\n",
       "    .dataframe tbody tr th {\n",
       "        vertical-align: top;\n",
       "    }\n",
       "\n",
       "    .dataframe thead th {\n",
       "        text-align: right;\n",
       "    }\n",
       "</style>\n",
       "<table border=\"1\" class=\"dataframe\">\n",
       "  <thead>\n",
       "    <tr style=\"text-align: right;\">\n",
       "      <th></th>\n",
       "      <th>pokemonId</th>\n",
       "      <th>latitude</th>\n",
       "      <th>longitude</th>\n",
       "      <th>appearedLocalTime</th>\n",
       "      <th>_id</th>\n",
       "      <th>cellId_90m</th>\n",
       "      <th>cellId_180m</th>\n",
       "      <th>cellId_370m</th>\n",
       "      <th>cellId_730m</th>\n",
       "      <th>cellId_1460m</th>\n",
       "      <th>...</th>\n",
       "      <th>cooc_143</th>\n",
       "      <th>cooc_144</th>\n",
       "      <th>cooc_145</th>\n",
       "      <th>cooc_146</th>\n",
       "      <th>cooc_147</th>\n",
       "      <th>cooc_148</th>\n",
       "      <th>cooc_149</th>\n",
       "      <th>cooc_150</th>\n",
       "      <th>cooc_151</th>\n",
       "      <th>class</th>\n",
       "    </tr>\n",
       "  </thead>\n",
       "  <tbody>\n",
       "    <tr>\n",
       "      <th>0</th>\n",
       "      <td>16</td>\n",
       "      <td>20.525745</td>\n",
       "      <td>-97.460829</td>\n",
       "      <td>2016-09-08T03:57:45</td>\n",
       "      <td>NTgxMDkzOTk4MTM5MjUwMjIzNw==</td>\n",
       "      <td>9645139108510564000</td>\n",
       "      <td>9645139108711890000</td>\n",
       "      <td>9645139108443455000</td>\n",
       "      <td>9645139109517197000</td>\n",
       "      <td>9645139113812165000</td>\n",
       "      <td>...</td>\n",
       "      <td>False</td>\n",
       "      <td>False</td>\n",
       "      <td>False</td>\n",
       "      <td>False</td>\n",
       "      <td>False</td>\n",
       "      <td>False</td>\n",
       "      <td>False</td>\n",
       "      <td>False</td>\n",
       "      <td>False</td>\n",
       "      <td>16</td>\n",
       "    </tr>\n",
       "    <tr>\n",
       "      <th>1</th>\n",
       "      <td>133</td>\n",
       "      <td>20.523695</td>\n",
       "      <td>-97.461167</td>\n",
       "      <td>2016-09-08T03:57:37</td>\n",
       "      <td>OTQ1NDgzODc1MjM3NDEzMTI2MQ==</td>\n",
       "      <td>9645139109852742000</td>\n",
       "      <td>9645139109785633000</td>\n",
       "      <td>9645139110590940000</td>\n",
       "      <td>9645139109517197000</td>\n",
       "      <td>9645139113812165000</td>\n",
       "      <td>...</td>\n",
       "      <td>False</td>\n",
       "      <td>False</td>\n",
       "      <td>False</td>\n",
       "      <td>False</td>\n",
       "      <td>False</td>\n",
       "      <td>False</td>\n",
       "      <td>False</td>\n",
       "      <td>False</td>\n",
       "      <td>False</td>\n",
       "      <td>133</td>\n",
       "    </tr>\n",
       "    <tr>\n",
       "      <th>2</th>\n",
       "      <td>16</td>\n",
       "      <td>38.903590</td>\n",
       "      <td>-77.199780</td>\n",
       "      <td>2016-09-08T03:57:25</td>\n",
       "      <td>NTQ0OTQ0NDA1Nzg2ODg3OTg2OQ==</td>\n",
       "      <td>9923201472785285000</td>\n",
       "      <td>9923201472986612000</td>\n",
       "      <td>9923201473791918000</td>\n",
       "      <td>9923201477013144000</td>\n",
       "      <td>9923201481308110000</td>\n",
       "      <td>...</td>\n",
       "      <td>False</td>\n",
       "      <td>False</td>\n",
       "      <td>False</td>\n",
       "      <td>False</td>\n",
       "      <td>False</td>\n",
       "      <td>False</td>\n",
       "      <td>False</td>\n",
       "      <td>False</td>\n",
       "      <td>False</td>\n",
       "      <td>16</td>\n",
       "    </tr>\n",
       "    <tr>\n",
       "      <th>3</th>\n",
       "      <td>13</td>\n",
       "      <td>47.665903</td>\n",
       "      <td>-122.312561</td>\n",
       "      <td>2016-09-08T03:56:22</td>\n",
       "      <td>NTU2MTU1NDM4NzA2MDk1MDcxNw==</td>\n",
       "      <td>6093392705025474600</td>\n",
       "      <td>6093392705092583400</td>\n",
       "      <td>6093392705897889800</td>\n",
       "      <td>6093392702676664300</td>\n",
       "      <td>6093392715561566200</td>\n",
       "      <td>...</td>\n",
       "      <td>False</td>\n",
       "      <td>False</td>\n",
       "      <td>False</td>\n",
       "      <td>False</td>\n",
       "      <td>False</td>\n",
       "      <td>False</td>\n",
       "      <td>False</td>\n",
       "      <td>False</td>\n",
       "      <td>False</td>\n",
       "      <td>13</td>\n",
       "    </tr>\n",
       "    <tr>\n",
       "      <th>4</th>\n",
       "      <td>133</td>\n",
       "      <td>47.666454</td>\n",
       "      <td>-122.311628</td>\n",
       "      <td>2016-09-08T03:56:08</td>\n",
       "      <td>MTY2ODg4MTAzMTczMDE0MTUwNTM=</td>\n",
       "      <td>6093392707709829100</td>\n",
       "      <td>6093392707776938000</td>\n",
       "      <td>6093392708045373400</td>\n",
       "      <td>6093392711266598900</td>\n",
       "      <td>6093392715561566200</td>\n",
       "      <td>...</td>\n",
       "      <td>False</td>\n",
       "      <td>False</td>\n",
       "      <td>False</td>\n",
       "      <td>False</td>\n",
       "      <td>False</td>\n",
       "      <td>False</td>\n",
       "      <td>False</td>\n",
       "      <td>False</td>\n",
       "      <td>False</td>\n",
       "      <td>133</td>\n",
       "    </tr>\n",
       "  </tbody>\n",
       "</table>\n",
       "<p>5 rows × 208 columns</p>\n",
       "</div>"
      ],
      "text/plain": [
       "   pokemonId   latitude   longitude    appearedLocalTime  \\\n",
       "0         16  20.525745  -97.460829  2016-09-08T03:57:45   \n",
       "1        133  20.523695  -97.461167  2016-09-08T03:57:37   \n",
       "2         16  38.903590  -77.199780  2016-09-08T03:57:25   \n",
       "3         13  47.665903 -122.312561  2016-09-08T03:56:22   \n",
       "4        133  47.666454 -122.311628  2016-09-08T03:56:08   \n",
       "\n",
       "                            _id           cellId_90m          cellId_180m  \\\n",
       "0  NTgxMDkzOTk4MTM5MjUwMjIzNw==  9645139108510564000  9645139108711890000   \n",
       "1  OTQ1NDgzODc1MjM3NDEzMTI2MQ==  9645139109852742000  9645139109785633000   \n",
       "2  NTQ0OTQ0NDA1Nzg2ODg3OTg2OQ==  9923201472785285000  9923201472986612000   \n",
       "3  NTU2MTU1NDM4NzA2MDk1MDcxNw==  6093392705025474600  6093392705092583400   \n",
       "4  MTY2ODg4MTAzMTczMDE0MTUwNTM=  6093392707709829100  6093392707776938000   \n",
       "\n",
       "           cellId_370m          cellId_730m         cellId_1460m  ...    \\\n",
       "0  9645139108443455000  9645139109517197000  9645139113812165000  ...     \n",
       "1  9645139110590940000  9645139109517197000  9645139113812165000  ...     \n",
       "2  9923201473791918000  9923201477013144000  9923201481308110000  ...     \n",
       "3  6093392705897889800  6093392702676664300  6093392715561566200  ...     \n",
       "4  6093392708045373400  6093392711266598900  6093392715561566200  ...     \n",
       "\n",
       "   cooc_143  cooc_144 cooc_145  cooc_146  cooc_147 cooc_148  cooc_149  \\\n",
       "0     False     False    False     False     False    False     False   \n",
       "1     False     False    False     False     False    False     False   \n",
       "2     False     False    False     False     False    False     False   \n",
       "3     False     False    False     False     False    False     False   \n",
       "4     False     False    False     False     False    False     False   \n",
       "\n",
       "   cooc_150  cooc_151  class  \n",
       "0     False     False     16  \n",
       "1     False     False    133  \n",
       "2     False     False     16  \n",
       "3     False     False     13  \n",
       "4     False     False    133  \n",
       "\n",
       "[5 rows x 208 columns]"
      ]
     },
     "execution_count": 17,
     "metadata": {},
     "output_type": "execute_result"
    }
   ],
   "source": [
    "df.head()"
   ]
  },
  {
   "cell_type": "code",
   "execution_count": 18,
   "metadata": {},
   "outputs": [
    {
     "data": {
      "text/plain": [
       "16     52114\n",
       "19     39637\n",
       "13     27367\n",
       "21     12337\n",
       "133    11740\n",
       "Name: pokemonId, dtype: int64"
      ]
     },
     "execution_count": 18,
     "metadata": {},
     "output_type": "execute_result"
    }
   ],
   "source": [
    "df['pokemonId'].value_counts().head(5) # Top 5 pokemons"
   ]
  },
  {
   "cell_type": "code",
   "execution_count": 23,
   "metadata": {},
   "outputs": [
    {
     "data": {
      "text/plain": [
       "night        147990\n",
       "morning       59890\n",
       "afternoon     45958\n",
       "evening       42183\n",
       "Name: appearedTimeOfDay, dtype: int64"
      ]
     },
     "execution_count": 23,
     "metadata": {},
     "output_type": "execute_result"
    }
   ],
   "source": [
    "df['appearedTimeOfDay'].value_counts().head(5) #top times the pokemon would appear"
   ]
  },
  {
   "cell_type": "code",
   "execution_count": 25,
   "metadata": {},
   "outputs": [
    {
     "data": {
      "text/plain": [
       "Saturday     72201\n",
       "Friday       68037\n",
       "Wednesday    60115\n",
       "Thursday     54257\n",
       "Sunday       32056\n",
       "dummy_day     9001\n",
       "Tuesday        354\n",
       "Name: appearedDayOfWeek, dtype: int64"
      ]
     },
     "execution_count": 25,
     "metadata": {},
     "output_type": "execute_result"
    }
   ],
   "source": [
    "df['appearedDayOfWeek'].value_counts()"
   ]
  },
  {
   "cell_type": "code",
   "execution_count": null,
   "metadata": {},
   "outputs": [],
   "source": [
    "sns.distplot(df['appearedDayOfWeek'])"
   ]
  },
  {
   "cell_type": "code",
   "execution_count": null,
   "metadata": {},
   "outputs": [],
   "source": []
  },
  {
   "cell_type": "code",
   "execution_count": null,
   "metadata": {},
   "outputs": [],
   "source": []
  }
 ],
 "metadata": {
  "kernelspec": {
   "display_name": "Python 3",
   "language": "python",
   "name": "python3"
  },
  "language_info": {
   "codemirror_mode": {
    "name": "ipython",
    "version": 3
   },
   "file_extension": ".py",
   "mimetype": "text/x-python",
   "name": "python",
   "nbconvert_exporter": "python",
   "pygments_lexer": "ipython3",
   "version": "3.6.7"
  }
 },
 "nbformat": 4,
 "nbformat_minor": 2
}
